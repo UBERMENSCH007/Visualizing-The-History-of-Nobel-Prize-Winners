{
 "cells": [
  {
   "cell_type": "markdown",
   "id": "db5bd2ce-918a-4f7d-a927-a3ea74c4b456",
   "metadata": {},
   "source": [
    "The Nobel Prize has been among the most prestigious international awards since 1901. Each year, awards are bestowed in chemistry, literature, physics, physiology or medicine, economics, and peace. In addition to the honor, prestige, and substantial prize money, the recipient also gets a gold medal with an image of Alfred Nobel (1833 - 1896), who established the prize.\n",
    "\n",
    "![](Nobel_Prize.png)\n",
    "\n",
    "The Nobel Foundation has made a dataset available of all prize winners from the outset of the awards from 1901 to 2023. The dataset used in this project is from the Nobel Prize API and is available in the `nobel.csv` file in the `data` folder.\n",
    "\n",
    "In this project, you'll get a chance to explore and answer several questions related to this prizewinning data. And we encourage you then to explore further questions that you're interested in!"
   ]
  },
  {
   "cell_type": "code",
   "execution_count": 110,
   "id": "11fd5946-7bd1-495c-aa7f-ff6e7e4a350b",
   "metadata": {
    "executionCancelledAt": null,
    "executionTime": 27,
    "lastExecutedAt": 1726678967766,
    "lastExecutedByKernel": "cdc3351a-0f47-4f2c-a5c3-e55eaf1b7397",
    "lastScheduledRunId": null,
    "lastSuccessfullyExecutedCode": "# Loading in required libraries\nimport pandas as pd\nimport seaborn as sns\nimport numpy as np\n\n# loading in the Nobel Foundation Data\nnobel_data = pd.read_csv('data/nobel.csv')\n\n#Check out the head of the data\nprint(nobel_data.head(12))",
    "outputsMetadata": {
     "0": {
      "height": 616,
      "type": "stream"
     }
    }
   },
   "outputs": [
    {
     "name": "stdout",
     "output_type": "stream",
     "text": [
      "    year    category                                           prize  \\\n",
      "0   1901   Chemistry               The Nobel Prize in Chemistry 1901   \n",
      "1   1901  Literature              The Nobel Prize in Literature 1901   \n",
      "2   1901    Medicine  The Nobel Prize in Physiology or Medicine 1901   \n",
      "3   1901       Peace                      The Nobel Peace Prize 1901   \n",
      "4   1901       Peace                      The Nobel Peace Prize 1901   \n",
      "5   1901     Physics                 The Nobel Prize in Physics 1901   \n",
      "6   1902   Chemistry               The Nobel Prize in Chemistry 1902   \n",
      "7   1902  Literature              The Nobel Prize in Literature 1902   \n",
      "8   1902    Medicine  The Nobel Prize in Physiology or Medicine 1902   \n",
      "9   1902       Peace                      The Nobel Peace Prize 1902   \n",
      "10  1902       Peace                      The Nobel Peace Prize 1902   \n",
      "11  1902     Physics                 The Nobel Prize in Physics 1902   \n",
      "\n",
      "                                           motivation prize_share  \\\n",
      "0   \"in recognition of the extraordinary services ...         1/1   \n",
      "1   \"in special recognition of his poetic composit...         1/1   \n",
      "2   \"for his work on serum therapy, especially its...         1/1   \n",
      "3                                                 NaN         1/2   \n",
      "4                                                 NaN         1/2   \n",
      "5   \"in recognition of the extraordinary services ...         1/1   \n",
      "6   \"in recognition of the extraordinary services ...         1/1   \n",
      "7   \"the greatest living master of the art of hist...         1/1   \n",
      "8   \"for his work on malaria, by which he has show...         1/1   \n",
      "9                                                 NaN         1/2   \n",
      "10                                                NaN         1/2   \n",
      "11  \"in recognition of the extraordinary service t...         1/2   \n",
      "\n",
      "    laureate_id laureate_type                           full_name  birth_date  \\\n",
      "0           160    Individual        Jacobus Henricus van 't Hoff  1852-08-30   \n",
      "1           569    Individual                     Sully Prudhomme  1839-03-16   \n",
      "2           293    Individual              Emil Adolf von Behring  1854-03-15   \n",
      "3           462    Individual                   Jean Henry Dunant  1828-05-08   \n",
      "4           463    Individual                      Frédéric Passy  1822-05-20   \n",
      "5             1    Individual              Wilhelm Conrad Röntgen  1845-03-27   \n",
      "6           161    Individual                Hermann Emil Fischer  1852-10-09   \n",
      "7           571    Individual  Christian Matthias Theodor Mommsen  1817-11-30   \n",
      "8           294    Individual                         Ronald Ross  1857-05-13   \n",
      "9           464    Individual                       Élie Ducommun  1833-02-19   \n",
      "10          465    Individual                Charles Albert Gobat  1843-05-21   \n",
      "11            2    Individual              Hendrik Antoon Lorentz  1853-07-18   \n",
      "\n",
      "            birth_city        birth_country   sex   organization_name  \\\n",
      "0            Rotterdam          Netherlands  Male   Berlin University   \n",
      "1                Paris               France  Male                 NaN   \n",
      "2    Hansdorf (Lawice)     Prussia (Poland)  Male  Marburg University   \n",
      "3               Geneva          Switzerland  Male                 NaN   \n",
      "4                Paris               France  Male                 NaN   \n",
      "5   Lennep (Remscheid)    Prussia (Germany)  Male   Munich University   \n",
      "6           Euskirchen    Prussia (Germany)  Male   Berlin University   \n",
      "7              Garding  Schleswig (Germany)  Male                 NaN   \n",
      "8               Almora                India  Male  University College   \n",
      "9               Geneva          Switzerland  Male                 NaN   \n",
      "10            Tramelan          Switzerland  Male                 NaN   \n",
      "11              Arnhem          Netherlands  Male   Leiden University   \n",
      "\n",
      "   organization_city organization_country  death_date      death_city  \\\n",
      "0             Berlin              Germany  1911-03-01          Berlin   \n",
      "1                NaN                  NaN  1907-09-07        Châtenay   \n",
      "2            Marburg              Germany  1917-03-31         Marburg   \n",
      "3                NaN                  NaN  1910-10-30          Heiden   \n",
      "4                NaN                  NaN  1912-06-12           Paris   \n",
      "5             Munich              Germany  1923-02-10          Munich   \n",
      "6             Berlin              Germany  1919-07-15          Berlin   \n",
      "7                NaN                  NaN  1903-11-01  Charlottenburg   \n",
      "8          Liverpool       United Kingdom  1932-09-16    Putney Heath   \n",
      "9                NaN                  NaN  1906-12-07            Bern   \n",
      "10               NaN                  NaN  1914-03-16            Bern   \n",
      "11            Leiden          Netherlands  1928-02-04             NaN   \n",
      "\n",
      "     death_country  \n",
      "0          Germany  \n",
      "1           France  \n",
      "2          Germany  \n",
      "3      Switzerland  \n",
      "4           France  \n",
      "5          Germany  \n",
      "6          Germany  \n",
      "7          Germany  \n",
      "8   United Kingdom  \n",
      "9      Switzerland  \n",
      "10     Switzerland  \n",
      "11     Netherlands  \n"
     ]
    }
   ],
   "source": [
    "# Questions: \n",
    "# What is the most commonly awarded gender and birth country?, \n",
    "# Which decade had the highest ratio of US-born Nobel Prize winners to total winners in all categories?, \n",
    "# Which decade and Nobel Prize category combination had the highest proportion of female laureates?, \n",
    "# Who was the first woman to receive a Nobel Prize, and in what category?, \n",
    "# Which individuals or organizations have won more than one Nobel Prize throughout the years?\n",
    "\n",
    "# Loading in required libraries\n",
    "import pandas as pd\n",
    "import seaborn as sns\n",
    "import numpy as np\n",
    "\n",
    "# loading in the Nobel Foundation Data\n",
    "nobel_data = pd.read_csv('data/nobel.csv')\n",
    "\n",
    "#Check out the head of the data\n",
    "print(nobel_data.head(12))"
   ]
  },
  {
   "cell_type": "code",
   "execution_count": 111,
   "id": "6c064bb1-8d9e-498e-a948-1cdb2cb0e68d",
   "metadata": {
    "chartConfig": {
     "bar": {
      "hasRoundedCorners": true,
      "stacked": false
     },
     "type": "bar",
     "version": "v1"
    },
    "executionCancelledAt": null,
    "executionTime": null,
    "lastExecutedAt": null,
    "lastExecutedByKernel": null,
    "lastScheduledRunId": null,
    "lastSuccessfullyExecutedCode": null,
    "outputsMetadata": {
     "1": {
      "height": 132,
      "type": "dataFrame"
     },
     "2": {
      "height": 313,
      "type": "dataFrame"
     }
    },
    "visualizeDataframe": false
   },
   "outputs": [
    {
     "data": {
      "text/plain": [
       "1000"
      ]
     },
     "metadata": {},
     "output_type": "display_data"
    },
    {
     "data": {
      "application/com.datacamp.data-table.v2+json": {
       "table": {
        "data": {
         "index": [
          "Male",
          "Female"
         ],
         "sex": [
          905,
          65
         ]
        },
        "schema": {
         "fields": [
          {
           "name": "index",
           "type": "string"
          },
          {
           "name": "sex",
           "type": "integer"
          }
         ],
         "pandas_version": "1.4.0",
         "primaryKey": [
          "index"
         ]
        }
       },
       "total_rows": 2,
       "truncation_type": null
      },
      "text/plain": [
       "Male      905\n",
       "Female     65\n",
       "Name: sex, dtype: int64"
      ]
     },
     "metadata": {},
     "output_type": "display_data"
    },
    {
     "data": {
      "application/com.datacamp.data-table.v2+json": {
       "table": {
        "data": {
         "birth_country": [
          291,
          91,
          67,
          58,
          30,
          28,
          21,
          19,
          19,
          18
         ],
         "index": [
          "United States of America",
          "United Kingdom",
          "Germany",
          "France",
          "Sweden",
          "Japan",
          "Canada",
          "Switzerland",
          "Netherlands",
          "Italy"
         ]
        },
        "schema": {
         "fields": [
          {
           "name": "index",
           "type": "string"
          },
          {
           "name": "birth_country",
           "type": "integer"
          }
         ],
         "pandas_version": "1.4.0",
         "primaryKey": [
          "index"
         ]
        }
       },
       "total_rows": 10,
       "truncation_type": null
      },
      "text/plain": [
       "United States of America    291\n",
       "United Kingdom               91\n",
       "Germany                      67\n",
       "France                       58\n",
       "Sweden                       30\n",
       "Japan                        28\n",
       "Canada                       21\n",
       "Switzerland                  19\n",
       "Netherlands                  19\n",
       "Italy                        18\n",
       "Name: birth_country, dtype: int64"
      ]
     },
     "metadata": {},
     "output_type": "display_data"
    }
   ],
   "source": [
    "# Display the number of nobel prizes given out from 1901 to 2023\n",
    "display(len(nobel_data))\n",
    "\n",
    "# Show the number of prizes won by males and females\n",
    "display(nobel_data['sex'].value_counts())\n",
    "top_gender = 'Male'\n",
    "\n",
    "# Show the number of prizes won by the top 10 countries\n",
    "display(nobel_data['birth_country'].value_counts().head(10))\n",
    "top_country = 'United States of America'"
   ]
  },
  {
   "cell_type": "code",
   "execution_count": 112,
   "id": "4e5f066b-f66f-4609-8d9b-6c08edfe7cbd",
   "metadata": {
    "executionCancelledAt": null,
    "executionTime": null,
    "lastExecutedAt": null,
    "lastExecutedByKernel": null,
    "lastScheduledRunId": null,
    "lastSuccessfullyExecutedCode": null,
    "outputsMetadata": {
     "0": {
      "height": 397,
      "type": "dataFrame"
     }
    }
   },
   "outputs": [
    {
     "data": {
      "application/com.datacamp.data-table.v2+json": {
       "table": {
        "data": {
         "decade": [
          1900,
          1910,
          1920,
          1930,
          1940,
          1950,
          1960,
          1970,
          1980,
          1990,
          2000,
          2010,
          2020
         ],
         "index": [
          0,
          1,
          2,
          3,
          4,
          5,
          6,
          7,
          8,
          9,
          10,
          11,
          12
         ],
         "usa_born_winner": [
          0.0175438596,
          0.075,
          0.0740740741,
          0.25,
          0.3023255814,
          0.2916666667,
          0.2658227848,
          0.3173076923,
          0.3195876289,
          0.4038461538,
          0.4227642276,
          0.3140495868,
          0.36
         ]
        },
        "schema": {
         "fields": [
          {
           "name": "index",
           "type": "integer"
          },
          {
           "name": "decade",
           "type": "integer"
          },
          {
           "name": "usa_born_winner",
           "type": "number"
          }
         ],
         "pandas_version": "1.4.0",
         "primaryKey": [
          "index"
         ]
        }
       },
       "total_rows": 13,
       "truncation_type": null
      },
      "text/html": [
       "<div>\n",
       "<style scoped>\n",
       "    .dataframe tbody tr th:only-of-type {\n",
       "        vertical-align: middle;\n",
       "    }\n",
       "\n",
       "    .dataframe tbody tr th {\n",
       "        vertical-align: top;\n",
       "    }\n",
       "\n",
       "    .dataframe thead th {\n",
       "        text-align: right;\n",
       "    }\n",
       "</style>\n",
       "<table border=\"1\" class=\"dataframe\">\n",
       "  <thead>\n",
       "    <tr style=\"text-align: right;\">\n",
       "      <th></th>\n",
       "      <th>decade</th>\n",
       "      <th>usa_born_winner</th>\n",
       "    </tr>\n",
       "  </thead>\n",
       "  <tbody>\n",
       "    <tr>\n",
       "      <th>0</th>\n",
       "      <td>1900</td>\n",
       "      <td>0.017544</td>\n",
       "    </tr>\n",
       "    <tr>\n",
       "      <th>1</th>\n",
       "      <td>1910</td>\n",
       "      <td>0.075000</td>\n",
       "    </tr>\n",
       "    <tr>\n",
       "      <th>2</th>\n",
       "      <td>1920</td>\n",
       "      <td>0.074074</td>\n",
       "    </tr>\n",
       "    <tr>\n",
       "      <th>3</th>\n",
       "      <td>1930</td>\n",
       "      <td>0.250000</td>\n",
       "    </tr>\n",
       "    <tr>\n",
       "      <th>4</th>\n",
       "      <td>1940</td>\n",
       "      <td>0.302326</td>\n",
       "    </tr>\n",
       "    <tr>\n",
       "      <th>5</th>\n",
       "      <td>1950</td>\n",
       "      <td>0.291667</td>\n",
       "    </tr>\n",
       "    <tr>\n",
       "      <th>6</th>\n",
       "      <td>1960</td>\n",
       "      <td>0.265823</td>\n",
       "    </tr>\n",
       "    <tr>\n",
       "      <th>7</th>\n",
       "      <td>1970</td>\n",
       "      <td>0.317308</td>\n",
       "    </tr>\n",
       "    <tr>\n",
       "      <th>8</th>\n",
       "      <td>1980</td>\n",
       "      <td>0.319588</td>\n",
       "    </tr>\n",
       "    <tr>\n",
       "      <th>9</th>\n",
       "      <td>1990</td>\n",
       "      <td>0.403846</td>\n",
       "    </tr>\n",
       "    <tr>\n",
       "      <th>10</th>\n",
       "      <td>2000</td>\n",
       "      <td>0.422764</td>\n",
       "    </tr>\n",
       "    <tr>\n",
       "      <th>11</th>\n",
       "      <td>2010</td>\n",
       "      <td>0.314050</td>\n",
       "    </tr>\n",
       "    <tr>\n",
       "      <th>12</th>\n",
       "      <td>2020</td>\n",
       "      <td>0.360000</td>\n",
       "    </tr>\n",
       "  </tbody>\n",
       "</table>\n",
       "</div>"
      ],
      "text/plain": [
       "    decade  usa_born_winner\n",
       "0     1900         0.017544\n",
       "1     1910         0.075000\n",
       "2     1920         0.074074\n",
       "3     1930         0.250000\n",
       "4     1940         0.302326\n",
       "5     1950         0.291667\n",
       "6     1960         0.265823\n",
       "7     1970         0.317308\n",
       "8     1980         0.319588\n",
       "9     1990         0.403846\n",
       "10    2000         0.422764\n",
       "11    2010         0.314050\n",
       "12    2020         0.360000"
      ]
     },
     "metadata": {},
     "output_type": "display_data"
    }
   ],
   "source": [
    "# The decade with the highest ratio of US-born winners\n",
    "nobel_data['usa_born_winner'] = nobel_data['birth_country'] == 'United States of America'\n",
    "nobel_data['decade'] = (np.floor(nobel_data['year'] / 10) * 10).astype(int)\n",
    "ratio_usa_winners = nobel_data.groupby(['decade'], as_index=False)['usa_born_winner'].mean()\n",
    "\n",
    "# Display ratio of USA born winners per decade\n",
    "display(ratio_usa_winners)\n",
    "\n",
    "max_decade_usa = 2000"
   ]
  },
  {
   "cell_type": "code",
   "execution_count": 113,
   "id": "248fdbb8-2f60-43e0-a86e-05cdd6e59db2",
   "metadata": {
    "executionCancelledAt": null,
    "executionTime": 52,
    "lastExecutedAt": 1726678967932,
    "lastExecutedByKernel": "cdc3351a-0f47-4f2c-a5c3-e55eaf1b7397",
    "lastScheduledRunId": null,
    "lastSuccessfullyExecutedCode": "# Decade with highest proportion of female laureates\nnobel_data['female_winner'] = nobel_data['sex'] == 'Female'\nratio_female_winners = nobel_data.groupby(['decade', 'category'], as_index=False)['female_winner'].mean()\n\n# Find the decade with the highest proportion of female winners\nmax_female_winner = ratio_female_winners.loc[ratio_female_winners['female_winner'].idxmax()]\n\n# Create a dictionary with the decade and the proportion of female winners\nmax_female_dict = {max_female_winner['decade']: max_female_winner['category']}\nmax_female_dict"
   },
   "outputs": [
    {
     "data": {
      "text/plain": [
       "{2020: 'Literature'}"
      ]
     },
     "execution_count": 113,
     "metadata": {},
     "output_type": "execute_result"
    }
   ],
   "source": [
    "# Decade with highest proportion of female laureates\n",
    "nobel_data['female_winner'] = nobel_data['sex'] == 'Female'\n",
    "ratio_female_winners = nobel_data.groupby(['decade', 'category'], as_index=False)['female_winner'].mean()\n",
    "\n",
    "# Find the decade with the highest proportion of female winners\n",
    "max_female_winner = ratio_female_winners.loc[ratio_female_winners['female_winner'].idxmax()]\n",
    "\n",
    "# Create a dictionary with the decade and the proportion of female winners\n",
    "max_female_dict = {max_female_winner['decade']: max_female_winner['category']}\n",
    "max_female_dict"
   ]
  },
  {
   "cell_type": "code",
   "execution_count": 114,
   "id": "1247dd1b-93e5-40ad-937f-18fa2870106b",
   "metadata": {
    "executionCancelledAt": null,
    "executionTime": 52,
    "lastExecutedAt": 1726678967984,
    "lastExecutedByKernel": "cdc3351a-0f47-4f2c-a5c3-e55eaf1b7397",
    "lastScheduledRunId": null,
    "lastSuccessfullyExecutedCode": "#first woman to receive a Nobel Prize and the category\nnobel_data[nobel_data['female_winner']==True].nsmallest(1, 'year')\nfirst_woman_name = 'Marie Curie, née Sklodowska'\nfirst_woman_category = 'Physics'\n",
    "outputsMetadata": {
     "0": {
      "height": 122,
      "type": "dataFrame"
     }
    }
   },
   "outputs": [],
   "source": [
    "#first woman to receive a Nobel Prize and the category\n",
    "nobel_data[nobel_data['female_winner']==True].nsmallest(1, 'year')\n",
    "first_woman_name = 'Marie Curie, née Sklodowska'\n",
    "first_woman_category = 'Physics'\n"
   ]
  },
  {
   "cell_type": "code",
   "execution_count": 115,
   "id": "4c6833b0-2a1c-4d80-836c-85278515d63b",
   "metadata": {
    "executionCancelledAt": null,
    "executionTime": 52,
    "lastExecutedAt": 1726678968036,
    "lastExecutedByKernel": "cdc3351a-0f47-4f2c-a5c3-e55eaf1b7397",
    "lastScheduledRunId": null,
    "lastSuccessfullyExecutedCode": "# Laureates who have won 2 or more nobel prizes\nnobel_data.groupby('full_name').filter(lambda x: len(x)>1 )\n\nrepeat_list = ['Marie Curie, née Sklodowska', 'Comité international de la Croix Rouge (International Committee of the Red Cross)', 'Linus Carl Pauling', 'Office of the United Nations High Commissioner for Refugees (UNHCR)', 'John Bardeen', 'Frederick Sanger']",
    "outputsMetadata": {
     "0": {
      "height": 458,
      "type": "dataFrame"
     }
    }
   },
   "outputs": [],
   "source": [
    "# Laureates who have won 2 or more nobel prizes\n",
    "nobel_data.groupby('full_name').filter(lambda x: len(x)>1 )\n",
    "\n",
    "repeat_list = ['Marie Curie, née Sklodowska', 'Comité international de la Croix Rouge (International Committee of the Red Cross)', 'Linus Carl Pauling', 'Office of the United Nations High Commissioner for Refugees (UNHCR)', 'John Bardeen', 'Frederick Sanger']"
   ]
  }
 ],
 "metadata": {
  "editor": "DataCamp Workspace",
  "kernelspec": {
   "display_name": "Python 3 (ipykernel)",
   "language": "python",
   "name": "python3"
  },
  "language_info": {
   "codemirror_mode": {
    "name": "ipython",
    "version": 3
   },
   "file_extension": ".py",
   "mimetype": "text/x-python",
   "name": "python",
   "nbconvert_exporter": "python",
   "pygments_lexer": "ipython3",
   "version": "3.9.12"
  }
 },
 "nbformat": 4,
 "nbformat_minor": 5
}
